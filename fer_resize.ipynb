{
 "cells": [
  {
   "cell_type": "markdown",
   "id": "8d2532ba",
   "metadata": {},
   "source": [
    "# FER2013 이미지 데이터 전처리 스크립트\n",
    "이 스크립트는 FER2013 데이터셋의 이미지들을 전처리하는 작업을 자동화합니다.  \n",
    " 주요 목적은 이미지들의 크기를 조정하고, 필요한 형식으로 저장하는 것입니다."
   ]
  },
  {
   "cell_type": "code",
   "execution_count": 1,
   "id": "291dd471-d0d0-4031-ae4a-06d2e93edf8d",
   "metadata": {},
   "outputs": [],
   "source": [
    "import os\n",
    "from glob import glob\n",
    "import cv2\n",
    "import numpy as np\n",
    "import pandas as pd\n",
    "from tqdm import tqdm\n",
    "CROP_SIZE = (224,224) #사진크기 지정"
   ]
  },
  {
   "cell_type": "code",
   "execution_count": 2,
   "id": "a2770d1b-f911-47b9-9e67-526f42f3c99f",
   "metadata": {},
   "outputs": [],
   "source": [
    "test_or_train = 'train'"
   ]
  },
  {
   "cell_type": "code",
   "execution_count": 3,
   "id": "caf3fe9c-2fa7-43bf-bf4a-ba7a090015d6",
   "metadata": {},
   "outputs": [],
   "source": [
    "class Datapreprocess:\n",
    "    def __init__(self):\n",
    "        # 클래스 초기화 시 사용되는 변수들을 설정합니다.\n",
    "        self.img = None\n",
    "        self.save_path = None\n",
    "        self.file_name = None\n",
    "        self.new_file_path = None\n",
    "        self.curr_emotion = None\n",
    "        self.curr_dir = os.getcwd()\n",
    "        self.data_lst = []\n",
    "        \n",
    "    def _resize_img(self):\n",
    "        # 이미지 크기를 변경하고, 그레이스케일로 변환하는 함수입니다.\n",
    "        img = self.img.copy()\n",
    "        img = cv2.resize(img, CROP_SIZE, interpolation=cv2.INTER_CUBIC)\n",
    "        img = cv2.cvtColor(img, cv2.COLOR_BGR2GRAY)\n",
    "        self.img = img\n",
    "        \n",
    "    def _read_img(self,file_name):\n",
    "        # 이미지를 읽어오는 함수입니다.\n",
    "        self.img_path = os.path.join(self.curr_dir,'fer2013',test_or_train,self.curr_emotion,file_name)\n",
    "        self.img = cv2.imread(self.img_path)\n",
    "        \n",
    "    def _save_img(self):\n",
    "        # 이미지를 저장하는 함수입니다.\n",
    "        self._create_path(os.path.join(self.curr_dir,'fer2013','resize',test_or_train,self.curr_emotion))\n",
    "        cv2.imwrite(self.new_file_path,self.img)\n",
    "        self.img = None\n",
    "\n",
    "    def _record(self):\n",
    "        # 데이터 정보를 기록하고 CSV 파일로 저장하는 함수입니다.\n",
    "        self.data_lst.append({\"path\": self.new_file_path, \"label\": self.curr_emotion})\n",
    "        df = pd.DataFrame(self.data_lst)\n",
    "        self._create_path(os.path.join(self.curr_dir,'fer2013','resize',test_or_train,'csvs'))\n",
    "        df.to_csv(f\"./fer2013/resize/{test_or_train}/csvs/{self.curr_emotion}.csv\")\n",
    "        del df\n",
    "\n",
    "    def _create_path(self,path):\n",
    "        # 주어진 경로에 디렉토리가 없으면 생성하는 함수입니다.\n",
    "        if not os.path.exists(path):\n",
    "            os.makedirs(path)\n",
    "            return path\n",
    "        else:\n",
    "            return path\n",
    "            \n",
    "    def work(self, file_name, emo):\n",
    "        # 이미지 처리를 위한 메인 함수입니다.\n",
    "        self.curr_emotion = emo\n",
    "        self.file_name = file_name\n",
    "        self._read_img(self.file_name)\n",
    "        self._resize_img()\n",
    "        self.new_file_path = f\"./fer2013/resize/{test_or_train}/{self.curr_emotion}/{self.file_name}\"\n",
    "        self._save_img()\n",
    "        self._record()"
   ]
  },
  {
   "cell_type": "code",
   "execution_count": 4,
   "id": "9e5db058-1caf-443f-9b61-0f913879d58b",
   "metadata": {},
   "outputs": [
    {
     "name": "stderr",
     "output_type": "stream",
     "text": [
      "angry: 100%|██████████████████████████████████████████████████████████████████████| 3993/3993 [00:30<00:00, 132.50it/s]\n",
      "embarrassed: 100%|████████████████████████████████████████████████████████████████| 3171/3171 [00:15<00:00, 204.54it/s]\n",
      "happy: 100%|██████████████████████████████████████████████████████████████████████| 7215/7215 [01:00<00:00, 120.04it/s]\n",
      "neutral: 100%|████████████████████████████████████████████████████████████████████| 4965/4965 [00:35<00:00, 140.74it/s]\n",
      "sad: 100%|████████████████████████████████████████████████████████████████████████| 4830/4830 [00:33<00:00, 145.45it/s]\n"
     ]
    }
   ],
   "source": [
    "emotion = ['angry','embarrassed','happy','neutral','sad']\n",
    "datapreprocess = Datapreprocess()\n",
    "\n",
    "# 감정별로 이미지를 처리합니다.\n",
    "for emo in emotion:\n",
    "    datapreprocess.__init__()\n",
    "    path = os.path.join(os.getcwd(),'fer2013',test_or_train,emo)\n",
    "    files = os.listdir(path)\n",
    "    for file in tqdm(files,desc = emo):\n",
    "        datapreprocess.work(file,emo)"
   ]
  },
  {
   "cell_type": "code",
   "execution_count": null,
   "id": "d886d566-8452-49e0-9997-0c79433ca6d4",
   "metadata": {},
   "outputs": [],
   "source": []
  },
  {
   "cell_type": "code",
   "execution_count": null,
   "id": "b3400459-b9f7-443f-a7d1-4d4ca997bcb6",
   "metadata": {},
   "outputs": [],
   "source": []
  }
 ],
 "metadata": {
  "kernelspec": {
   "display_name": "Python 3 (ipykernel)",
   "language": "python",
   "name": "python3"
  },
  "language_info": {
   "codemirror_mode": {
    "name": "ipython",
    "version": 3
   },
   "file_extension": ".py",
   "mimetype": "text/x-python",
   "name": "python",
   "nbconvert_exporter": "python",
   "pygments_lexer": "ipython3",
   "version": "3.9.18"
  }
 },
 "nbformat": 4,
 "nbformat_minor": 5
}
