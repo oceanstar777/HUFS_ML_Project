{
 "cells": [
  {
   "cell_type": "code",
   "execution_count": 1,
   "id": "9037f584-ca7d-4a9d-8eee-e84f428f568d",
   "metadata": {
    "tags": []
   },
   "outputs": [],
   "source": [
    "from functools import partial\n",
    "import os\n",
    "from glob import glob\n",
    "import pandas as pd"
   ]
  },
  {
   "cell_type": "code",
   "execution_count": 2,
   "id": "7d02ed4e-e575-4291-afa1-f4c3b34d4f6c",
   "metadata": {
    "tags": []
   },
   "outputs": [],
   "source": [
    "curr = os.getcwd()\n",
    "emotion_lst = ['angry','embarrassed','happy','neutral','sad']\n",
    "folders = [os.path.join(curr,e) for e in emotion_lst]"
   ]
  },
  {
   "cell_type": "code",
   "execution_count": 3,
   "id": "cf4a6275-5af4-48bc-ba3d-1de08b92bd7d",
   "metadata": {},
   "outputs": [],
   "source": [
    "def convert_path(emotion,file,mode = 'validation'):\n",
    "    return f\"./fer2013/resize/{mode}/{emotion}/{file}\""
   ]
  },
  {
   "cell_type": "code",
   "execution_count": 4,
   "id": "37ed6123-6fd1-487a-b955-36ca4d0536d9",
   "metadata": {
    "tags": []
   },
   "outputs": [],
   "source": [
    "for folder,emotion in zip(folders,emotion_lst):\n",
    "    path_lst = []\n",
    "    pic_lst = glob(os.path.join(curr,folder)+\"/*.jpg\")\n",
    "    for pic in pic_lst:\n",
    "        path = convert_path(emotion, os.path.basename(pic))\n",
    "        path_lst.append(path)\n",
    "    res_dct = {'path':path_lst,'label':[emotion]*len(path_lst)}\n",
    "    df = pd.DataFrame(res_dct)\n",
    "    df.to_csv(f\"./csvs/{emotion}.csv\",index = False)\n",
    "    del res_dct, path_lst"
   ]
  },
  {
   "cell_type": "code",
   "execution_count": null,
   "id": "025efc3e-b061-460c-b158-864164338785",
   "metadata": {},
   "outputs": [],
   "source": []
  }
 ],
 "metadata": {
  "kernelspec": {
   "display_name": "Python 3 (ipykernel)",
   "language": "python",
   "name": "python3"
  },
  "language_info": {
   "codemirror_mode": {
    "name": "ipython",
    "version": 3
   },
   "file_extension": ".py",
   "mimetype": "text/x-python",
   "name": "python",
   "nbconvert_exporter": "python",
   "pygments_lexer": "ipython3",
   "version": "3.9.18"
  }
 },
 "nbformat": 4,
 "nbformat_minor": 5
}
