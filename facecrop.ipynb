{
 "cells": [
  {
   "cell_type": "markdown",
   "id": "aaf683e0-74c8-4372-a1c0-f4ddd3bd0c3e",
   "metadata": {
    "execution": {
     "iopub.execute_input": "2023-09-17T19:38:01.567937Z",
     "iopub.status.busy": "2023-09-17T19:38:01.567690Z",
     "iopub.status.idle": "2023-09-17T19:38:01.573870Z",
     "shell.execute_reply": "2023-09-17T19:38:01.573445Z",
     "shell.execute_reply.started": "2023-09-17T19:38:01.567921Z"
    },
    "tags": []
   },
   "source": [
    "# 데이터 전처리 작업 및 데이터 저장\n",
    "\n",
    "이 코드는 이미지 데이터의 데이터 전처리를 수행하고, 결과를 CSV 파일로 저장하는 작업을 수행합니다.   \n",
    "데이터 전처리 과정은 얼굴을 감지하고 잘라내며, 이미지를 그레이스케일로 변환하여 저장됩니다. "
   ]
  },
  {
   "cell_type": "code",
   "execution_count": 1,
   "id": "45344d9d",
   "metadata": {
    "execution": {
     "iopub.execute_input": "2023-09-17T13:45:07.036744Z",
     "iopub.status.busy": "2023-09-17T13:45:07.036538Z",
     "iopub.status.idle": "2023-09-17T13:45:07.039967Z",
     "shell.execute_reply": "2023-09-17T13:45:07.039571Z",
     "shell.execute_reply.started": "2023-09-17T13:45:07.036729Z"
    },
    "tags": []
   },
   "outputs": [],
   "source": [
    "import os\n",
    "from glob import glob\n",
    "import json\n",
    "import cv2\n",
    "import cvlib as cv\n",
    "import numpy as np\n",
    "import pandas as pd\n",
    "from random import shuffle\n",
    "from keras.preprocessing.image import ImageDataGenerator\n",
    "CROP_SIZE = (224,224) #사진크기 지정\n"
   ]
  },
  {
   "cell_type": "code",
   "execution_count": 17,
   "id": "42464e55",
   "metadata": {
    "execution": {
     "iopub.execute_input": "2023-09-17T13:45:07.380256Z",
     "iopub.status.busy": "2023-09-17T13:45:07.380108Z",
     "iopub.status.idle": "2023-09-17T13:45:07.387023Z",
     "shell.execute_reply": "2023-09-17T13:45:07.386618Z",
     "shell.execute_reply.started": "2023-09-17T13:45:07.380241Z"
    },
    "tags": []
   },
   "outputs": [],
   "source": [
    "class Datapreprocess:\n",
    "    def __init__(self):\n",
    "        \"\"\"\n",
    "        데이터 전처리 클래스의 초기화 메서드입니다.\n",
    "        \"\"\"\n",
    "        self.data_lst = []  # 데이터 목록을 저장할 리스트\n",
    "        self.img = None  # 이미지 데이터를 저장할 변수\n",
    "        self.X_position = (0, 0)  # 얼굴 영역의 X 좌표 범위\n",
    "        self.Y_position = (0, 0)  # 얼굴 영역의 Y 좌표 범위\n",
    "        self.curr_emotion = ''  # 현재 감정 레이블\n",
    "        self.new_file_path = \"\"  # 새로운 파일 경로\n",
    "\n",
    "    def _save_crop_img(self):\n",
    "        \"\"\"\n",
    "        얼굴 영역을 크롭하고 저장하는 내부 메서드입니다.\n",
    "\n",
    "        :return: 크롭 및 저장 성공 여부 (True 또는 False)\n",
    "        \"\"\"\n",
    "        try:\n",
    "            img = self.img.copy()\n",
    "            roi = img[\n",
    "                self.Y_position[0]:self.Y_position[1],\n",
    "                self.X_position[0]:self.X_position[1],\n",
    "            ]\n",
    "            img = cv2.resize(roi, CROP_SIZE, interpolation=cv2.INTER_CUBIC)\n",
    "            img = cv2.cvtColor(img, cv2.COLOR_BGR2GRAY)\n",
    "            self.img = img\n",
    "            return True\n",
    "        except:\n",
    "            return False\n",
    "\n",
    "    def _detect_face(self, img_path):\n",
    "        \"\"\"\n",
    "        이미지에서 얼굴을 검출하는 내부 메서드입니다.\n",
    "\n",
    "        :param img_path: 이미지 파일의 경로\n",
    "        :return: 얼굴 검출 성공 여부 (True 또는 False)\n",
    "        \"\"\"\n",
    "        try:\n",
    "            self.img = cv2.imread(img_path)\n",
    "            faces, _ = cv.detect_face(self.img, enable_gpu=True)\n",
    "            self.X_position = faces[0][0], faces[0][2]\n",
    "            self.Y_position = faces[0][1], faces[0][3]\n",
    "            return True\n",
    "        except:\n",
    "            return False\n",
    "\n",
    "    def _random_name(self):\n",
    "        \"\"\"\n",
    "        임의의 파일 이름을 생성하는 내부 메서드입니다.\n",
    "\n",
    "        :return: 생성된 임의의 파일 이름\n",
    "        \"\"\"\n",
    "        rand_int = list(map(str, np.random.randint(low=0, high=9, size=7)))\n",
    "        lst = list(map(chr, np.random.randint(low=97, high=122, size=45))) + rand_int\n",
    "        shuffle(lst)\n",
    "        return \"\".join(lst)\n",
    "\n",
    "    def work(self, img_path, emo):\n",
    "        \"\"\"\n",
    "        데이터 전처리 작업을 수행하는 메서드입니다.\n",
    "\n",
    "        :param img_path: 입력 이미지 파일의 경로\n",
    "        :param emo: 해당 이미지의 감정 레이블\n",
    "        :return: 데이터 전처리 성공 여부 (True 또는 False)\n",
    "        \"\"\"\n",
    "        self.curr_emotion = emo\n",
    "        if self._detect_face(img_path) and self._save_crop_img():\n",
    "            if self.img.shape == CROP_SIZE:\n",
    "                self.new_file_path = f\"./dataset/test/{self.curr_emotion}/{self.curr_emotion}_{self._random_name()}.jpg\"\n",
    "                self.data_lst.append({\"path\": self.new_file_path, \"label\": self.curr_emotion})\n",
    "                cv2.imwrite(self.new_file_path, self.img)\n",
    "                return True\n",
    "            else:\n",
    "                return False\n"
   ]
  },
  {
   "cell_type": "code",
   "execution_count": 18,
   "id": "89239afb",
   "metadata": {
    "execution": {
     "iopub.execute_input": "2023-09-17T13:45:08.093431Z",
     "iopub.status.busy": "2023-09-17T13:45:08.093277Z",
     "iopub.status.idle": "2023-09-17T13:45:09.253985Z",
     "shell.execute_reply": "2023-09-17T13:45:09.253504Z",
     "shell.execute_reply.started": "2023-09-17T13:45:08.093410Z"
    },
    "tags": []
   },
   "outputs": [
    {
     "name": "stdout",
     "output_type": "stream",
     "text": [
      "[]\n",
      "[]\n"
     ]
    }
   ],
   "source": [
    "datapreprocess = Datapreprocess()  # 데이터 전처리를 수행할 Datapreprocess 클래스의 객체를 초기화합니다.\n",
    "path_dir_lst = os.listdir(\"./dataset/test\")  # 디렉토리 내에 있는 하위 디렉토리 목록을 가져옵니다.\n",
    "\n",
    "print(path_dir_lst)  # 하위 디렉토리 목록을 출력합니다.\n",
    "\n",
    "folder_lst = [\n",
    "    f'./dataset/test/{e}/'\n",
    "    for e in path_dir_lst\n",
    "]\n",
    "print(folder_lst)  # 각 하위 디렉토리에 대한 경로 목록을 생성하고 출력합니다.\n",
    "\n",
    "for emo, folder in zip(path_dir_lst, folder_lst):\n",
    "    if 'csvs' in emo or 'csvs' in folder:\n",
    "        continue\n",
    "    try:\n",
    "        img_list = glob.glob(os.path.join(folder) + \"*.jpg\")  # 각 하위 디렉토리에서 .jpg 파일의 목록을 가져옵니다.\n",
    "        img_list = list(map(lambda x: x.replace(\"\\\\\", '/'), img_list))  # 파일 경로에서 역슬래시를 슬래시로 대체합니다.\n",
    "        for img_path in img_list:\n",
    "            datapreprocess.work(img_path, emo)  # 각 이미지에 대해 데이터 전처리 작업을 수행합니다.\n",
    "    except Exception as e:\n",
    "        print('Fail to face crop')\n",
    "\n",
    "pd.DataFrame(datapreprocess.data_lst).to_csv(\"dataset.csv\", index=False)  # 데이터 전처리 결과를 CSV 파일로 저장합니다."
   ]
  },
  {
   "cell_type": "code",
   "execution_count": null,
   "id": "6e7dd452-cdc0-4451-ad1f-9a61074664c8",
   "metadata": {},
   "outputs": [],
   "source": []
  }
 ],
 "metadata": {
  "kernelspec": {
   "display_name": "Python 3 (ipykernel)",
   "language": "python",
   "name": "python3"
  },
  "language_info": {
   "codemirror_mode": {
    "name": "ipython",
    "version": 3
   },
   "file_extension": ".py",
   "mimetype": "text/x-python",
   "name": "python",
   "nbconvert_exporter": "python",
   "pygments_lexer": "ipython3",
   "version": "3.9.18"
  },
  "widgets": {
   "application/vnd.jupyter.widget-state+json": {
    "state": {},
    "version_major": 2,
    "version_minor": 0
   }
  }
 },
 "nbformat": 4,
 "nbformat_minor": 5
}
