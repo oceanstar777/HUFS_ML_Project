{
 "cells": [
  {
   "cell_type": "markdown",
   "id": "2b32eecc-bea8-4df2-86b3-ac3f2d805d43",
   "metadata": {},
   "source": [
    "# 파일명 재지정\n",
    "이미지 파일의 이름을 무작위로 변경하는 작업을 수행하는 코드입니다.\n",
    "\n",
    "지정된 디렉터리에서 이미지 파일을 검색하고, 각 이미지 파일의 이름을 무작위로 생성된 새로운 이름으로 변경합니다. \n",
    "\n",
    "1. `random_name()` 함수:\n",
    "   - 이 함수는 무작위로 생성된 파일 이름을 반환합니다.\n",
    "   - 파일 이름은 알파벳 소문자와 숫자의 조합으로 이루어져 있으며, 예를 들어 \"a1b2c3d.jpg\"와 같은 형태로 반환됩니다.\n",
    "\n",
    "2. 이미지 파일 디렉터리 경로 가져오기:\n",
    "   - `os.listdir(\"pre_dataset/\")`를 사용하여 \"pre_dataset/\" 디렉터리 내에 있는 서브 디렉터리 목록을 가져옵니다. 이 목록에는 각각 다른 감정 또는 카테고리를 나타내는 디렉터리가 포함됩니다.\n",
    "\n",
    "3. 각 폴더의 경로 생성:\n",
    "   - 각 서브 디렉터리에 대한 경로를 `folder_lst` 리스트에 생성합니다. 이 경로는 이미지 파일을 검색하는 데 사용됩니다.\n",
    "\n",
    "4. 이미지 파일 이름 무작위로 변경:\n",
    "   - `folder_lst`를 순회하면서 각 서브 디렉터리에 있는 이미지 파일을 검색합니다.\n",
    "   - 각 이미지 파일의 현재 이름을 무작위로 생성한 새 이름으로 변경합니다. 새 이름에는 해당 감정 또는 카테고리 정보도 포함됩니다.\n",
    "   - 파일 이름 변경은 `os.rename()` 함수를 사용하여 수행됩니다."
   ]
  },
  {
   "cell_type": "code",
   "execution_count": 1,
   "id": "5bd96a65",
   "metadata": {
    "tags": []
   },
   "outputs": [],
   "source": [
    "import os\n",
    "import numpy as np\n",
    "from random import shuffle\n",
    "import json\n",
    "from tqdm import tqdm"
   ]
  },
  {
   "cell_type": "code",
   "execution_count": 2,
   "id": "1e847aaf",
   "metadata": {
    "tags": []
   },
   "outputs": [],
   "source": [
    "def random_name():\n",
    "    \"\"\"\n",
    "    무작위 파일 이름을 생성합니다.\n",
    "\n",
    "    반환:\n",
    "    - 생성된 무작위 파일 이름 (예: \"a1b2c3d\")\n",
    "    \"\"\"\n",
    "    rand_int = list(map(str,np.random.randint(low=0, high=9, size=7)))\n",
    "    lst = list(map(chr, np.random.randint(low=97, high=122, size=43)))+rand_int\n",
    "    shuffle(lst)\n",
    "    return \"\".join(lst)"
   ]
  },
  {
   "cell_type": "code",
   "execution_count": 3,
   "id": "15ed28cf",
   "metadata": {
    "tags": []
   },
   "outputs": [
    {
     "name": "stdout",
     "output_type": "stream",
     "text": [
      "npjeycgt1iqlvrj11adnuebjve0med84sbrgeiyo1ftpjpmtqi\n"
     ]
    }
   ],
   "source": [
    "emotion = ['angry','embarrassed','happy','neutral','sad']\n",
    "print(random_name())"
   ]
  },
  {
   "cell_type": "code",
   "execution_count": 4,
   "id": "4907706e-7ab6-4eff-9d94-dd578ef5d480",
   "metadata": {
    "tags": []
   },
   "outputs": [],
   "source": [
    "val_path =\"D:\\ML_pj\\Validation\"\n",
    "label_path = os.path.join(val_path,'labels')"
   ]
  },
  {
   "cell_type": "code",
   "execution_count": 5,
   "id": "db2cdb3e-0928-4fd7-bc90-bf0ce6039169",
   "metadata": {
    "tags": []
   },
   "outputs": [
    {
     "name": "stderr",
     "output_type": "stream",
     "text": [
      "angry: 100%|██████████████████████████████████████████████████████████████████████| 7461/7461 [00:25<00:00, 288.92it/s]\n",
      "embarrassed: 100%|████████████████████████████████████████████████████████████████| 7454/7454 [00:25<00:00, 290.42it/s]\n",
      "happy: 100%|██████████████████████████████████████████████████████████████████████| 7499/7499 [00:25<00:00, 290.51it/s]\n",
      "neutral: 100%|████████████████████████████████████████████████████████████████████| 7403/7403 [00:25<00:00, 291.15it/s]\n",
      "sad: 100%|████████████████████████████████████████████████████████████████████████| 7479/7479 [00:25<00:00, 288.82it/s]\n"
     ]
    }
   ],
   "source": [
    "for emo in emotion:\n",
    "    json_path = os.path.join(label_path,f\"{emo}.json\")\n",
    "    n_json_path = os.path.join(label_path,f\"new_{emo}.json\")\n",
    "    pic_dir = os.path.join(val_path, emo, emo)\n",
    "    n_pic_dir = os.path.join(val_path, emo)\n",
    "    res_lst = []\n",
    "    with open(json_path,'r',encoding = 'utf-8') as f:\n",
    "        info_lst = json.load(f)\n",
    "    for info in tqdm(info_lst,desc = emo):\n",
    "        try:\n",
    "            new_name = random_name()+'.jpg'\n",
    "            old_name = info['filename']\n",
    "            os.rename(os.path.join(pic_dir, old_name),os.path.join(n_pic_dir,new_name))\n",
    "            info['filename'] = new_name\n",
    "            res_lst.append(info)\n",
    "        except FileNotFoundError as e:        \n",
    "            pass        \n",
    "    with open(n_json_path,'w') as f:\n",
    "        json.dump(res_lst,f)"
   ]
  },
  {
   "cell_type": "code",
   "execution_count": null,
   "id": "31c3b283-1945-4698-ab8c-ada001c88b95",
   "metadata": {},
   "outputs": [],
   "source": []
  }
 ],
 "metadata": {
  "kernelspec": {
   "display_name": "Python 3 (ipykernel)",
   "language": "python",
   "name": "python3"
  },
  "language_info": {
   "codemirror_mode": {
    "name": "ipython",
    "version": 3
   },
   "file_extension": ".py",
   "mimetype": "text/x-python",
   "name": "python",
   "nbconvert_exporter": "python",
   "pygments_lexer": "ipython3",
   "version": "3.9.18"
  }
 },
 "nbformat": 4,
 "nbformat_minor": 5
}
