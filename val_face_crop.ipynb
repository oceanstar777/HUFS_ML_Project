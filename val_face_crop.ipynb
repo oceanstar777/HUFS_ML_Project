{
 "cells": [
  {
   "cell_type": "markdown",
   "id": "aaf683e0-74c8-4372-a1c0-f4ddd3bd0c3e",
   "metadata": {
    "execution": {
     "iopub.execute_input": "2023-09-17T19:38:01.567937Z",
     "iopub.status.busy": "2023-09-17T19:38:01.567690Z",
     "iopub.status.idle": "2023-09-17T19:38:01.573870Z",
     "shell.execute_reply": "2023-09-17T19:38:01.573445Z",
     "shell.execute_reply.started": "2023-09-17T19:38:01.567921Z"
    },
    "tags": []
   },
   "source": [
    "# 데이터 전처리 작업 및 데이터 저장\n",
    "\n",
    "이 코드는 이미지 데이터의 데이터 전처리를 수행하고, 결과를 CSV 파일로 저장하는 작업을 수행합니다.   \n",
    "데이터 전처리 과정은 얼굴을 감지하고 잘라내며, 이미지를 그레이스케일로 변환하여 저장됩니다. "
   ]
  },
  {
   "cell_type": "code",
   "execution_count": 1,
   "id": "9b523b1b-d907-4aed-9974-cd02f57c799d",
   "metadata": {},
   "outputs": [],
   "source": [
    "# !pip install tqdm"
   ]
  },
  {
   "cell_type": "code",
   "execution_count": 2,
   "id": "45344d9d",
   "metadata": {
    "tags": []
   },
   "outputs": [],
   "source": [
    "import os\n",
    "from glob import glob\n",
    "import json\n",
    "import cv2\n",
    "import numpy as np\n",
    "import pandas as pd\n",
    "from random import shuffle\n",
    "from tqdm import tqdm\n",
    "from functools import partial\n",
    "CROP_SIZE = (224,224) #사진크기 지정\n"
   ]
  },
  {
   "cell_type": "code",
   "execution_count": null,
   "id": "87f267dd-a63c-4eae-9459-b0e86a0e1abe",
   "metadata": {},
   "outputs": [],
   "source": []
  },
  {
   "cell_type": "code",
   "execution_count": 3,
   "id": "c9829ecc",
   "metadata": {},
   "outputs": [],
   "source": [
    "def create_path(path):\n",
    "    if not os.path.exists(path):\n",
    "        os.mkdir(path)\n",
    "        print(f'Create {path}.')\n",
    "        return path\n",
    "    else:\n",
    "        print(f'{path} already exists.')\n",
    "        return path"
   ]
  },
  {
   "cell_type": "code",
   "execution_count": 4,
   "id": "42464e55",
   "metadata": {
    "tags": []
   },
   "outputs": [],
   "source": [
    "class Datapreprocess:\n",
    "    def __init__(self,emo_pic_path):\n",
    "        \"\"\"\n",
    "        데이터 전처리 클래스의 초기화 메서드입니다.\n",
    "        \"\"\"\n",
    "        self.img_folder_path = emo_pic_path\n",
    "        self.data_lst = []  # 데이터 목록을 저장할 리스트\n",
    "        self.img = None  # 이미지 데이터를 저장할 변수\n",
    "        self.X_position = (0, 0)  # 얼굴 영역의 X 좌표 범위\n",
    "        self.Y_position = (0, 0)  # 얼굴 영역의 Y 좌표 범위\n",
    "        self.curr_emotion = ''  # 현재 감정 레이블\n",
    "        self.new_file_path = \"\"  # 새로운 파일 경로\n",
    "        self.img_path = \"\"\n",
    "        self.file_name = \"\"\n",
    "        self.curr_dir = os.getcwd()\n",
    "        \n",
    "    def _save_crop_img(self):\n",
    "        img = self.img.copy()\n",
    "        roi = img[\n",
    "            int(self.Y_position[0]):int(self.Y_position[1]),\n",
    "            int(self.X_position[0]):int(self.X_position[1]),\n",
    "        ]\n",
    "        img = cv2.resize(roi, CROP_SIZE, interpolation=cv2.INTER_CUBIC)\n",
    "        img = cv2.cvtColor(img, cv2.COLOR_BGR2GRAY)\n",
    "        self.img = img\n",
    "\n",
    "    def _detect_face(self,info):\n",
    "        self.img_path = os.path.join(self.img_folder_path,self.file_name)\n",
    "        self.img = cv2.imread(self.img_path)\n",
    "        self.X_position = info['annot_A']['boxes']['minX'], info['annot_A']['boxes']['maxX']\n",
    "        self.Y_position = info['annot_A']['boxes']['minY'], info['annot_A']['boxes']['maxY']\n",
    "\n",
    "\n",
    "    def work(self, info, emo):\n",
    "        \"\"\"\n",
    "        데이터 전처리 작업을 수행하는 메서드입니다.\n",
    "\n",
    "        :param img_path: 입력 이미지 파일의 경로\n",
    "        :param emo: 해당 이미지의 감정 레이블\n",
    "        :return: 데이터 전처리 성공 여부 (True 또는 False)\n",
    "        \"\"\"\n",
    "        self.curr_emotion = emo\n",
    "        self.file_name = info['filename']\n",
    "        self._detect_face(info)\n",
    "        self._save_crop_img()\n",
    "        self.new_file_path = self._get_new_file_path(self.file_name)\n",
    "        self.data_lst.append({\"path\": self.new_file_path, \"label\": self.curr_emotion})\n",
    "        cv2.imwrite(self.new_file_path, self.img)\n",
    "        df = pd.DataFrame(self.data_lst)\n",
    "        df.to_csv(f\"./validation/csvs/{self.curr_emotion}.csv\")\n",
    "        \n",
    "    def _get_new_file_path(self,file_name):\n",
    "        return f\"./validation/{self.curr_emotion}/{file_name}\""
   ]
  },
  {
   "cell_type": "code",
   "execution_count": null,
   "id": "89239afb",
   "metadata": {
    "tags": []
   },
   "outputs": [
    {
     "name": "stdout",
     "output_type": "stream",
     "text": [
      "C:\\Users\\royal\\Desktop\\ML\\project\\validation\\csvs already exists.\n",
      "C:\\Users\\royal\\Desktop\\ML\\project\\validation\\errors already exists.\n",
      "D:\\ML_pj\\Validation\\angry already exists.\n",
      "C:\\Users\\royal\\Desktop\\ML\\project\\validation\\angry already exists.\n"
     ]
    },
    {
     "name": "stderr",
     "output_type": "stream",
     "text": [
      "angry: 100%|███████████████████████████████████████████████████████████████████████| 7461/7461 [22:11<00:00,  5.61it/s]\n"
     ]
    },
    {
     "name": "stdout",
     "output_type": "stream",
     "text": [
      "D:\\ML_pj\\Validation\\embarrassed already exists.\n",
      "C:\\Users\\royal\\Desktop\\ML\\project\\validation\\embarrassed already exists.\n"
     ]
    },
    {
     "name": "stderr",
     "output_type": "stream",
     "text": [
      "embarrassed: 100%|█████████████████████████████████████████████████████████████████| 7454/7454 [16:49<00:00,  7.39it/s]\n"
     ]
    },
    {
     "name": "stdout",
     "output_type": "stream",
     "text": [
      "D:\\ML_pj\\Validation\\happy already exists.\n",
      "Create C:\\Users\\royal\\Desktop\\ML\\project\\validation\\happy.\n"
     ]
    },
    {
     "name": "stderr",
     "output_type": "stream",
     "text": [
      "happy: 100%|███████████████████████████████████████████████████████████████████████| 7499/7499 [26:41<00:00,  4.68it/s]\n"
     ]
    },
    {
     "name": "stdout",
     "output_type": "stream",
     "text": [
      "D:\\ML_pj\\Validation\\sad already exists.\n",
      "Create C:\\Users\\royal\\Desktop\\ML\\project\\validation\\sad.\n"
     ]
    },
    {
     "name": "stderr",
     "output_type": "stream",
     "text": [
      "sad: 100%|█████████████████████████████████████████████████████████████████████████| 7479/7479 [26:10<00:00,  4.76it/s]\n"
     ]
    },
    {
     "name": "stdout",
     "output_type": "stream",
     "text": [
      "D:\\ML_pj\\Validation\\neutral already exists.\n",
      "Create C:\\Users\\royal\\Desktop\\ML\\project\\validation\\neutral.\n"
     ]
    },
    {
     "name": "stderr",
     "output_type": "stream",
     "text": [
      "neutral:  89%|█████████████████████████████████████████████████████████████▎       | 6576/7403 [22:21<02:23,  5.78it/s]"
     ]
    }
   ],
   "source": [
    "emotion_lst = ['angry','embarrassed','happy','sad','neutral']\n",
    "\n",
    "\n",
    "datapreprocess = Datapreprocess(None)\n",
    "curr_dir = os.getcwd()\n",
    "create_path(os.path.join(curr_dir,'validation','csvs'))\n",
    "errors_path = create_path(os.path.join(curr_dir,'validation','errors'))\n",
    "label_path = 'D:\\ML_pj\\Validation\\labels'\n",
    "pic_path = \"D:\\ML_pj\\Validation\"\n",
    "\n",
    "for emo in emotion_lst:\n",
    "    emo_pic_path = create_path(os.path.join(pic_path,emo))\n",
    "    create_path(os.path.join(curr_dir,'validation',emo))\n",
    "    datapreprocess.__init__(emo_pic_path)\n",
    "    json_path = os.path.join(label_path,f\"new_{emo}.json\")\n",
    "    error_path = os.path.join(errors_path,f'{emo}_error.txt')\n",
    "    with open(json_path,'r') as f:\n",
    "        info_lst = json.load(f)\n",
    "    for info in tqdm(info_lst,desc = emo):\n",
    "        try:\n",
    "            datapreprocess.work(info, emo)  # 각 이미지에 대해 데이터 전처리 작업을 수행합니다.\n",
    "        except:\n",
    "            with open(error_path,'a')as f:\n",
    "               f.write(str(info['filename'])+'\\n') "
   ]
  },
  {
   "cell_type": "code",
   "execution_count": null,
   "id": "16f55b1e-3928-4cc0-844c-c9ef030e6da5",
   "metadata": {},
   "outputs": [],
   "source": []
  }
 ],
 "metadata": {
  "kernelspec": {
   "display_name": "Python 3 (ipykernel)",
   "language": "python",
   "name": "python3"
  },
  "language_info": {
   "codemirror_mode": {
    "name": "ipython",
    "version": 3
   },
   "file_extension": ".py",
   "mimetype": "text/x-python",
   "name": "python",
   "nbconvert_exporter": "python",
   "pygments_lexer": "ipython3",
   "version": "3.9.18"
  }
 },
 "nbformat": 4,
 "nbformat_minor": 5
}
